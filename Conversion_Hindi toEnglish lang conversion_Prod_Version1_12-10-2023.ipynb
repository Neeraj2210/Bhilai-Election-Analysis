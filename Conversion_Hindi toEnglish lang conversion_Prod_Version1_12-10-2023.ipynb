{
 "cells": [
  {
   "cell_type": "markdown",
   "metadata": {},
   "source": [
    "# This notebook is to Split the PDF, Extraction of Data from PDF and Convert the Data into English Language"
   ]
  },
  {
   "cell_type": "markdown",
   "metadata": {},
   "source": [
    "### 1. Split the PDF"
   ]
  },
  {
   "cell_type": "markdown",
   "metadata": {},
   "source": [
    "Installation required:-\n",
    "    pip install PyMuPDF"
   ]
  },
  {
   "cell_type": "code",
   "execution_count": 27,
   "metadata": {},
   "outputs": [],
   "source": [
    "import fitz  # PyMuPDF\n",
    "import os\n",
    "\n",
    "def split_and_delete_pdf(input_pdf_path, output_folder):\n",
    "    try:\n",
    "        # Ensure the output folder exists\n",
    "        if not os.path.exists(output_folder):\n",
    "            os.makedirs(output_folder)\n",
    "\n",
    "        # Open the input PDF\n",
    "        pdf_document = fitz.open(input_pdf_path)\n",
    "\n",
    "        for page_number in range(len(pdf_document)):\n",
    "            # Extract each page\n",
    "            page = pdf_document[page_number]\n",
    "            \n",
    "            # Create a new PDF document with just this page\n",
    "            new_pdf_document = fitz.open()\n",
    "            new_pdf_document.insert_pdf(pdf_document, from_page=page_number, to_page=page_number)\n",
    "\n",
    "            # Save the extracted page to the output folder\n",
    "            output_filename = os.path.join(output_folder, f\"page_{page_number + 1}.pdf\")\n",
    "            new_pdf_document.save(output_filename)\n",
    "            new_pdf_document.close()\n",
    "\n",
    "        # Close the input PDF\n",
    "        pdf_document.close()\n",
    "\n",
    "        # Delete the second file in the output folder (page 2)\n",
    "        file_to_delete = os.path.join(output_folder, \"page_2.pdf\")\n",
    "        if os.path.exists(file_to_delete):\n",
    "            os.remove(file_to_delete)\n",
    "\n",
    "        print(\"successfully split the PDF and deleted the second PDF\")\n",
    "    except Exception as e:\n",
    "        print(f\"Error: {str(e)}\")\n",
    "\n",
    "\n"
   ]
  },
  {
   "cell_type": "code",
   "execution_count": 28,
   "metadata": {},
   "outputs": [
    {
     "name": "stdout",
     "output_type": "stream",
     "text": [
      "successfully split the PDF and deleted the second PDF\n"
     ]
    }
   ],
   "source": [
    "# Example usage:\n",
    "input_pdf_path = \"F:\\Election Commission\\Input Folder\\PDF Data\\Jotta.pdf\"  # Replace with the path to your input PDF file\n",
    "output_folder = \"F:/Election Commission/Input Folder/Split_PDF_Data\"      # Replace with the path to your output folder\n",
    "\n",
    "split_and_delete_pdf(input_pdf_path, output_folder)"
   ]
  },
  {
   "cell_type": "markdown",
   "metadata": {},
   "source": [
    "### 2 Extract the PDF Data and provide the output in txt files"
   ]
  },
  {
   "cell_type": "markdown",
   "metadata": {},
   "source": [
    "Installation required:- pip install Pytessract ,PopplePoppler-22.04.0"
   ]
  },
  {
   "cell_type": "code",
   "execution_count": 29,
   "metadata": {},
   "outputs": [],
   "source": [
    "import os\n",
    "import pytesseract\n",
    "from pdf2image import convert_from_path\n",
    "\n",
    "def extract_text_from_pdfs(input_folder, output_folder):\n",
    "    try:\n",
    "        # Ensure the output folder exists, create it if necessary\n",
    "        os.makedirs(output_folder, exist_ok=True)\n",
    "\n",
    "        # List all PDF files in the input folder\n",
    "        pdf_files = [f for f in os.listdir(input_folder) if f.endswith('.pdf')]\n",
    "\n",
    "        for pdf_file in pdf_files:\n",
    "            input_pdf_path = os.path.join(input_folder, pdf_file)\n",
    "            output_text_file = os.path.splitext(pdf_file)[0] + '.txt'\n",
    "            output_text_path = os.path.join(output_folder, output_text_file)\n",
    "\n",
    "            # Create a folder to store temporary image files\n",
    "            temp_image_folder = os.path.join(output_folder, 'temp_images')\n",
    "            os.makedirs(temp_image_folder, exist_ok=True)\n",
    "\n",
    "            # Convert PDF pages to images\n",
    "            images = convert_from_path(input_pdf_path, output_folder=temp_image_folder, dpi=300)\n",
    "\n",
    "            # Initialize a variable to store extracted text\n",
    "            extracted_text = ''\n",
    "\n",
    "            # Define Tesseract configuration for multiple languages (Hindi, English, and digits)\n",
    "            tesseract_config = '--psm 6 --oem 1 -l hin+eng+osd'\n",
    "\n",
    "            # Iterate through each image\n",
    "            for image in images:\n",
    "                # Perform OCR on the image to extract text\n",
    "                text = pytesseract.image_to_string(image, config=tesseract_config)\n",
    "\n",
    "                # Append the extracted text to the result\n",
    "                extracted_text += text\n",
    "\n",
    "            # Clean up temporary image files\n",
    "            for image_file in os.listdir(temp_image_folder):\n",
    "                image_path = os.path.join(temp_image_folder, image_file)\n",
    "                os.remove(image_path)\n",
    "\n",
    "            # Save the extracted text to the specified output text file\n",
    "            with open(output_text_path, 'w', encoding='utf-8') as output_text_file:\n",
    "                output_text_file.write(extracted_text)\n",
    "\n",
    "            print(f\"Text extracted from '{pdf_file}' and saved to '{output_text_file}'\")\n",
    "\n",
    "        return \"Text extraction completed successfully for all files in the folder\"\n",
    "\n",
    "    except Exception as e:\n",
    "        return f\"Error: {str(e)}\"\n"
   ]
  },
  {
   "cell_type": "code",
   "execution_count": 30,
   "metadata": {},
   "outputs": [
    {
     "name": "stdout",
     "output_type": "stream",
     "text": [
      "Text extracted from 'page_1.pdf' and saved to '<_io.TextIOWrapper name='F:\\\\Election Commission\\\\Input Folder\\\\Hindi_Text_Data\\\\page_1.txt' mode='w' encoding='utf-8'>'\n",
      "Text extracted from 'page_10.pdf' and saved to '<_io.TextIOWrapper name='F:\\\\Election Commission\\\\Input Folder\\\\Hindi_Text_Data\\\\page_10.txt' mode='w' encoding='utf-8'>'\n",
      "Text extracted from 'page_11.pdf' and saved to '<_io.TextIOWrapper name='F:\\\\Election Commission\\\\Input Folder\\\\Hindi_Text_Data\\\\page_11.txt' mode='w' encoding='utf-8'>'\n",
      "Text extracted from 'page_12.pdf' and saved to '<_io.TextIOWrapper name='F:\\\\Election Commission\\\\Input Folder\\\\Hindi_Text_Data\\\\page_12.txt' mode='w' encoding='utf-8'>'\n",
      "Text extracted from 'page_13.pdf' and saved to '<_io.TextIOWrapper name='F:\\\\Election Commission\\\\Input Folder\\\\Hindi_Text_Data\\\\page_13.txt' mode='w' encoding='utf-8'>'\n",
      "Text extracted from 'page_14.pdf' and saved to '<_io.TextIOWrapper name='F:\\\\Election Commission\\\\Input Folder\\\\Hindi_Text_Data\\\\page_14.txt' mode='w' encoding='utf-8'>'\n",
      "Text extracted from 'page_15.pdf' and saved to '<_io.TextIOWrapper name='F:\\\\Election Commission\\\\Input Folder\\\\Hindi_Text_Data\\\\page_15.txt' mode='w' encoding='utf-8'>'\n",
      "Text extracted from 'page_16.pdf' and saved to '<_io.TextIOWrapper name='F:\\\\Election Commission\\\\Input Folder\\\\Hindi_Text_Data\\\\page_16.txt' mode='w' encoding='utf-8'>'\n",
      "Text extracted from 'page_17.pdf' and saved to '<_io.TextIOWrapper name='F:\\\\Election Commission\\\\Input Folder\\\\Hindi_Text_Data\\\\page_17.txt' mode='w' encoding='utf-8'>'\n",
      "Text extracted from 'page_18.pdf' and saved to '<_io.TextIOWrapper name='F:\\\\Election Commission\\\\Input Folder\\\\Hindi_Text_Data\\\\page_18.txt' mode='w' encoding='utf-8'>'\n",
      "Text extracted from 'page_19.pdf' and saved to '<_io.TextIOWrapper name='F:\\\\Election Commission\\\\Input Folder\\\\Hindi_Text_Data\\\\page_19.txt' mode='w' encoding='utf-8'>'\n",
      "Text extracted from 'page_20.pdf' and saved to '<_io.TextIOWrapper name='F:\\\\Election Commission\\\\Input Folder\\\\Hindi_Text_Data\\\\page_20.txt' mode='w' encoding='utf-8'>'\n",
      "Text extracted from 'page_21.pdf' and saved to '<_io.TextIOWrapper name='F:\\\\Election Commission\\\\Input Folder\\\\Hindi_Text_Data\\\\page_21.txt' mode='w' encoding='utf-8'>'\n",
      "Text extracted from 'page_22.pdf' and saved to '<_io.TextIOWrapper name='F:\\\\Election Commission\\\\Input Folder\\\\Hindi_Text_Data\\\\page_22.txt' mode='w' encoding='utf-8'>'\n",
      "Text extracted from 'page_23.pdf' and saved to '<_io.TextIOWrapper name='F:\\\\Election Commission\\\\Input Folder\\\\Hindi_Text_Data\\\\page_23.txt' mode='w' encoding='utf-8'>'\n",
      "Text extracted from 'page_24.pdf' and saved to '<_io.TextIOWrapper name='F:\\\\Election Commission\\\\Input Folder\\\\Hindi_Text_Data\\\\page_24.txt' mode='w' encoding='utf-8'>'\n",
      "Text extracted from 'page_25.pdf' and saved to '<_io.TextIOWrapper name='F:\\\\Election Commission\\\\Input Folder\\\\Hindi_Text_Data\\\\page_25.txt' mode='w' encoding='utf-8'>'\n",
      "Text extracted from 'page_26.pdf' and saved to '<_io.TextIOWrapper name='F:\\\\Election Commission\\\\Input Folder\\\\Hindi_Text_Data\\\\page_26.txt' mode='w' encoding='utf-8'>'\n",
      "Text extracted from 'page_27.pdf' and saved to '<_io.TextIOWrapper name='F:\\\\Election Commission\\\\Input Folder\\\\Hindi_Text_Data\\\\page_27.txt' mode='w' encoding='utf-8'>'\n",
      "Text extracted from 'page_28.pdf' and saved to '<_io.TextIOWrapper name='F:\\\\Election Commission\\\\Input Folder\\\\Hindi_Text_Data\\\\page_28.txt' mode='w' encoding='utf-8'>'\n",
      "Text extracted from 'page_29.pdf' and saved to '<_io.TextIOWrapper name='F:\\\\Election Commission\\\\Input Folder\\\\Hindi_Text_Data\\\\page_29.txt' mode='w' encoding='utf-8'>'\n",
      "Text extracted from 'page_3.pdf' and saved to '<_io.TextIOWrapper name='F:\\\\Election Commission\\\\Input Folder\\\\Hindi_Text_Data\\\\page_3.txt' mode='w' encoding='utf-8'>'\n",
      "Text extracted from 'page_30.pdf' and saved to '<_io.TextIOWrapper name='F:\\\\Election Commission\\\\Input Folder\\\\Hindi_Text_Data\\\\page_30.txt' mode='w' encoding='utf-8'>'\n",
      "Text extracted from 'page_31.pdf' and saved to '<_io.TextIOWrapper name='F:\\\\Election Commission\\\\Input Folder\\\\Hindi_Text_Data\\\\page_31.txt' mode='w' encoding='utf-8'>'\n",
      "Text extracted from 'page_32.pdf' and saved to '<_io.TextIOWrapper name='F:\\\\Election Commission\\\\Input Folder\\\\Hindi_Text_Data\\\\page_32.txt' mode='w' encoding='utf-8'>'\n",
      "Text extracted from 'page_33.pdf' and saved to '<_io.TextIOWrapper name='F:\\\\Election Commission\\\\Input Folder\\\\Hindi_Text_Data\\\\page_33.txt' mode='w' encoding='utf-8'>'\n",
      "Text extracted from 'page_34.pdf' and saved to '<_io.TextIOWrapper name='F:\\\\Election Commission\\\\Input Folder\\\\Hindi_Text_Data\\\\page_34.txt' mode='w' encoding='utf-8'>'\n",
      "Text extracted from 'page_35.pdf' and saved to '<_io.TextIOWrapper name='F:\\\\Election Commission\\\\Input Folder\\\\Hindi_Text_Data\\\\page_35.txt' mode='w' encoding='utf-8'>'\n",
      "Text extracted from 'page_36.pdf' and saved to '<_io.TextIOWrapper name='F:\\\\Election Commission\\\\Input Folder\\\\Hindi_Text_Data\\\\page_36.txt' mode='w' encoding='utf-8'>'\n",
      "Text extracted from 'page_37.pdf' and saved to '<_io.TextIOWrapper name='F:\\\\Election Commission\\\\Input Folder\\\\Hindi_Text_Data\\\\page_37.txt' mode='w' encoding='utf-8'>'\n",
      "Text extracted from 'page_38.pdf' and saved to '<_io.TextIOWrapper name='F:\\\\Election Commission\\\\Input Folder\\\\Hindi_Text_Data\\\\page_38.txt' mode='w' encoding='utf-8'>'\n",
      "Text extracted from 'page_39.pdf' and saved to '<_io.TextIOWrapper name='F:\\\\Election Commission\\\\Input Folder\\\\Hindi_Text_Data\\\\page_39.txt' mode='w' encoding='utf-8'>'\n",
      "Text extracted from 'page_4.pdf' and saved to '<_io.TextIOWrapper name='F:\\\\Election Commission\\\\Input Folder\\\\Hindi_Text_Data\\\\page_4.txt' mode='w' encoding='utf-8'>'\n",
      "Text extracted from 'page_40.pdf' and saved to '<_io.TextIOWrapper name='F:\\\\Election Commission\\\\Input Folder\\\\Hindi_Text_Data\\\\page_40.txt' mode='w' encoding='utf-8'>'\n",
      "Text extracted from 'page_41.pdf' and saved to '<_io.TextIOWrapper name='F:\\\\Election Commission\\\\Input Folder\\\\Hindi_Text_Data\\\\page_41.txt' mode='w' encoding='utf-8'>'\n",
      "Text extracted from 'page_42.pdf' and saved to '<_io.TextIOWrapper name='F:\\\\Election Commission\\\\Input Folder\\\\Hindi_Text_Data\\\\page_42.txt' mode='w' encoding='utf-8'>'\n",
      "Text extracted from 'page_43.pdf' and saved to '<_io.TextIOWrapper name='F:\\\\Election Commission\\\\Input Folder\\\\Hindi_Text_Data\\\\page_43.txt' mode='w' encoding='utf-8'>'\n",
      "Text extracted from 'page_44.pdf' and saved to '<_io.TextIOWrapper name='F:\\\\Election Commission\\\\Input Folder\\\\Hindi_Text_Data\\\\page_44.txt' mode='w' encoding='utf-8'>'\n",
      "Text extracted from 'page_45.pdf' and saved to '<_io.TextIOWrapper name='F:\\\\Election Commission\\\\Input Folder\\\\Hindi_Text_Data\\\\page_45.txt' mode='w' encoding='utf-8'>'\n",
      "Text extracted from 'page_46.pdf' and saved to '<_io.TextIOWrapper name='F:\\\\Election Commission\\\\Input Folder\\\\Hindi_Text_Data\\\\page_46.txt' mode='w' encoding='utf-8'>'\n",
      "Text extracted from 'page_47.pdf' and saved to '<_io.TextIOWrapper name='F:\\\\Election Commission\\\\Input Folder\\\\Hindi_Text_Data\\\\page_47.txt' mode='w' encoding='utf-8'>'\n",
      "Text extracted from 'page_48.pdf' and saved to '<_io.TextIOWrapper name='F:\\\\Election Commission\\\\Input Folder\\\\Hindi_Text_Data\\\\page_48.txt' mode='w' encoding='utf-8'>'\n",
      "Text extracted from 'page_49.pdf' and saved to '<_io.TextIOWrapper name='F:\\\\Election Commission\\\\Input Folder\\\\Hindi_Text_Data\\\\page_49.txt' mode='w' encoding='utf-8'>'\n",
      "Text extracted from 'page_5.pdf' and saved to '<_io.TextIOWrapper name='F:\\\\Election Commission\\\\Input Folder\\\\Hindi_Text_Data\\\\page_5.txt' mode='w' encoding='utf-8'>'\n",
      "Text extracted from 'page_50.pdf' and saved to '<_io.TextIOWrapper name='F:\\\\Election Commission\\\\Input Folder\\\\Hindi_Text_Data\\\\page_50.txt' mode='w' encoding='utf-8'>'\n",
      "Text extracted from 'page_6.pdf' and saved to '<_io.TextIOWrapper name='F:\\\\Election Commission\\\\Input Folder\\\\Hindi_Text_Data\\\\page_6.txt' mode='w' encoding='utf-8'>'\n",
      "Text extracted from 'page_7.pdf' and saved to '<_io.TextIOWrapper name='F:\\\\Election Commission\\\\Input Folder\\\\Hindi_Text_Data\\\\page_7.txt' mode='w' encoding='utf-8'>'\n",
      "Text extracted from 'page_8.pdf' and saved to '<_io.TextIOWrapper name='F:\\\\Election Commission\\\\Input Folder\\\\Hindi_Text_Data\\\\page_8.txt' mode='w' encoding='utf-8'>'\n",
      "Text extracted from 'page_9.pdf' and saved to '<_io.TextIOWrapper name='F:\\\\Election Commission\\\\Input Folder\\\\Hindi_Text_Data\\\\page_9.txt' mode='w' encoding='utf-8'>'\n",
      "Text extraction completed successfully for all files in the folder\n"
     ]
    }
   ],
   "source": [
    "input_folder = 'F:\\Election Commission\\Input Folder\\Split_PDF_Data'\n",
    "output_folder = 'F:\\Election Commission\\Input Folder\\Hindi_Text_Data'\n",
    "\n",
    "# Call the function to process PDFs in the input folder\n",
    "result = extract_text_from_pdfs(input_folder, output_folder)\n",
    "print(result)"
   ]
  },
  {
   "cell_type": "markdown",
   "metadata": {},
   "source": [
    "### 3. Translate all files data from Hindi to English"
   ]
  },
  {
   "cell_type": "code",
   "execution_count": 31,
   "metadata": {},
   "outputs": [],
   "source": [
    "from googletrans import Translator\n",
    "import os\n",
    "\n",
    "def translate_hindi_files_to_english(input_folder, output_folder):\n",
    "    # Ensure the output folder exists, create it if necessary\n",
    "    if not os.path.exists(output_folder):\n",
    "        os.makedirs(output_folder)\n",
    "\n",
    "    # Initialize the Google Translator\n",
    "    translator = Translator()\n",
    "\n",
    "    # Iterate through all files in the input folder\n",
    "    for filename in os.listdir(input_folder):\n",
    "        if filename.endswith(\".txt\"):\n",
    "            # Construct the full paths for input and output files\n",
    "            input_file_path = os.path.join(input_folder, filename)\n",
    "            output_file_path = os.path.join(output_folder, filename)\n",
    "\n",
    "            # Read the input file with Hindi text\n",
    "            with open(input_file_path, 'r', encoding='utf-8') as input_file:\n",
    "                hindi_text = input_file.read()\n",
    "\n",
    "            # Translate the Hindi text to English\n",
    "            translated = translator.translate(hindi_text, src='hi', dest='en')\n",
    "\n",
    "            # Get the translated English text\n",
    "            english_text = translated.text\n",
    "\n",
    "            # Save the translated text to the output file\n",
    "            with open(output_file_path, 'w', encoding='utf-8') as output_file:\n",
    "                output_file.write(english_text)\n",
    "\n",
    "            print(f\"Translation completed for '{filename}' and saved to: {output_file_path}\")"
   ]
  },
  {
   "cell_type": "code",
   "execution_count": 32,
   "metadata": {},
   "outputs": [
    {
     "name": "stdout",
     "output_type": "stream",
     "text": [
      "Translation completed for 'page_1.txt' and saved to: F:/Election Commission/Input Folder/English_Text_Data\\page_1.txt\n",
      "Translation completed for 'page_10.txt' and saved to: F:/Election Commission/Input Folder/English_Text_Data\\page_10.txt\n",
      "Translation completed for 'page_11.txt' and saved to: F:/Election Commission/Input Folder/English_Text_Data\\page_11.txt\n",
      "Translation completed for 'page_12.txt' and saved to: F:/Election Commission/Input Folder/English_Text_Data\\page_12.txt\n",
      "Translation completed for 'page_13.txt' and saved to: F:/Election Commission/Input Folder/English_Text_Data\\page_13.txt\n",
      "Translation completed for 'page_14.txt' and saved to: F:/Election Commission/Input Folder/English_Text_Data\\page_14.txt\n",
      "Translation completed for 'page_15.txt' and saved to: F:/Election Commission/Input Folder/English_Text_Data\\page_15.txt\n",
      "Translation completed for 'page_16.txt' and saved to: F:/Election Commission/Input Folder/English_Text_Data\\page_16.txt\n",
      "Translation completed for 'page_17.txt' and saved to: F:/Election Commission/Input Folder/English_Text_Data\\page_17.txt\n",
      "Translation completed for 'page_18.txt' and saved to: F:/Election Commission/Input Folder/English_Text_Data\\page_18.txt\n",
      "Translation completed for 'page_19.txt' and saved to: F:/Election Commission/Input Folder/English_Text_Data\\page_19.txt\n",
      "Translation completed for 'page_20.txt' and saved to: F:/Election Commission/Input Folder/English_Text_Data\\page_20.txt\n",
      "Translation completed for 'page_21.txt' and saved to: F:/Election Commission/Input Folder/English_Text_Data\\page_21.txt\n",
      "Translation completed for 'page_22.txt' and saved to: F:/Election Commission/Input Folder/English_Text_Data\\page_22.txt\n",
      "Translation completed for 'page_23.txt' and saved to: F:/Election Commission/Input Folder/English_Text_Data\\page_23.txt\n",
      "Translation completed for 'page_24.txt' and saved to: F:/Election Commission/Input Folder/English_Text_Data\\page_24.txt\n",
      "Translation completed for 'page_25.txt' and saved to: F:/Election Commission/Input Folder/English_Text_Data\\page_25.txt\n",
      "Translation completed for 'page_26.txt' and saved to: F:/Election Commission/Input Folder/English_Text_Data\\page_26.txt\n",
      "Translation completed for 'page_27.txt' and saved to: F:/Election Commission/Input Folder/English_Text_Data\\page_27.txt\n",
      "Translation completed for 'page_28.txt' and saved to: F:/Election Commission/Input Folder/English_Text_Data\\page_28.txt\n",
      "Translation completed for 'page_29.txt' and saved to: F:/Election Commission/Input Folder/English_Text_Data\\page_29.txt\n",
      "Translation completed for 'page_3.txt' and saved to: F:/Election Commission/Input Folder/English_Text_Data\\page_3.txt\n",
      "Translation completed for 'page_30.txt' and saved to: F:/Election Commission/Input Folder/English_Text_Data\\page_30.txt\n",
      "Translation completed for 'page_31.txt' and saved to: F:/Election Commission/Input Folder/English_Text_Data\\page_31.txt\n",
      "Translation completed for 'page_32.txt' and saved to: F:/Election Commission/Input Folder/English_Text_Data\\page_32.txt\n",
      "Translation completed for 'page_33.txt' and saved to: F:/Election Commission/Input Folder/English_Text_Data\\page_33.txt\n",
      "Translation completed for 'page_34.txt' and saved to: F:/Election Commission/Input Folder/English_Text_Data\\page_34.txt\n",
      "Translation completed for 'page_35.txt' and saved to: F:/Election Commission/Input Folder/English_Text_Data\\page_35.txt\n",
      "Translation completed for 'page_36.txt' and saved to: F:/Election Commission/Input Folder/English_Text_Data\\page_36.txt\n",
      "Translation completed for 'page_37.txt' and saved to: F:/Election Commission/Input Folder/English_Text_Data\\page_37.txt\n",
      "Translation completed for 'page_38.txt' and saved to: F:/Election Commission/Input Folder/English_Text_Data\\page_38.txt\n",
      "Translation completed for 'page_39.txt' and saved to: F:/Election Commission/Input Folder/English_Text_Data\\page_39.txt\n",
      "Translation completed for 'page_4.txt' and saved to: F:/Election Commission/Input Folder/English_Text_Data\\page_4.txt\n",
      "Translation completed for 'page_40.txt' and saved to: F:/Election Commission/Input Folder/English_Text_Data\\page_40.txt\n",
      "Translation completed for 'page_41.txt' and saved to: F:/Election Commission/Input Folder/English_Text_Data\\page_41.txt\n",
      "Translation completed for 'page_42.txt' and saved to: F:/Election Commission/Input Folder/English_Text_Data\\page_42.txt\n",
      "Translation completed for 'page_43.txt' and saved to: F:/Election Commission/Input Folder/English_Text_Data\\page_43.txt\n",
      "Translation completed for 'page_44.txt' and saved to: F:/Election Commission/Input Folder/English_Text_Data\\page_44.txt\n",
      "Translation completed for 'page_45.txt' and saved to: F:/Election Commission/Input Folder/English_Text_Data\\page_45.txt\n",
      "Translation completed for 'page_46.txt' and saved to: F:/Election Commission/Input Folder/English_Text_Data\\page_46.txt\n",
      "Translation completed for 'page_47.txt' and saved to: F:/Election Commission/Input Folder/English_Text_Data\\page_47.txt\n",
      "Translation completed for 'page_48.txt' and saved to: F:/Election Commission/Input Folder/English_Text_Data\\page_48.txt\n",
      "Translation completed for 'page_49.txt' and saved to: F:/Election Commission/Input Folder/English_Text_Data\\page_49.txt\n",
      "Translation completed for 'page_5.txt' and saved to: F:/Election Commission/Input Folder/English_Text_Data\\page_5.txt\n",
      "Translation completed for 'page_50.txt' and saved to: F:/Election Commission/Input Folder/English_Text_Data\\page_50.txt\n",
      "Translation completed for 'page_6.txt' and saved to: F:/Election Commission/Input Folder/English_Text_Data\\page_6.txt\n",
      "Translation completed for 'page_7.txt' and saved to: F:/Election Commission/Input Folder/English_Text_Data\\page_7.txt\n",
      "Translation completed for 'page_8.txt' and saved to: F:/Election Commission/Input Folder/English_Text_Data\\page_8.txt\n",
      "Translation completed for 'page_9.txt' and saved to: F:/Election Commission/Input Folder/English_Text_Data\\page_9.txt\n"
     ]
    }
   ],
   "source": [
    "input_folder = 'F:/Election Commission/Input Folder/Hindi_Text_Data'\n",
    "output_folder = 'F:/Election Commission/Input Folder/English_Text_Data'\n",
    "\n",
    "translate_hindi_files_to_english(input_folder, output_folder)"
   ]
  },
  {
   "cell_type": "code",
   "execution_count": null,
   "metadata": {},
   "outputs": [],
   "source": []
  }
 ],
 "metadata": {
  "kernelspec": {
   "display_name": "Python 3",
   "language": "python",
   "name": "python3"
  },
  "language_info": {
   "codemirror_mode": {
    "name": "ipython",
    "version": 3
   },
   "file_extension": ".py",
   "mimetype": "text/x-python",
   "name": "python",
   "nbconvert_exporter": "python",
   "pygments_lexer": "ipython3",
   "version": "3.8.5"
  }
 },
 "nbformat": 4,
 "nbformat_minor": 5
}
